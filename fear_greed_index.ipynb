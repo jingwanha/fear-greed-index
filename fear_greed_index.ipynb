{
 "cells": [
  {
   "cell_type": "code",
   "execution_count": null,
   "metadata": {},
   "outputs": [],
   "source": [
    "import requests"
   ]
  },
  {
   "cell_type": "code",
   "execution_count": 2,
   "metadata": {},
   "outputs": [],
   "source": [
    "def get_fear_and_greed_index():\n",
    "    # 공포탐욕 지수 API의 URL\n",
    "    url = \"https://api.alternative.me/fng/\"\n",
    "\n",
    "    # API 호출을 통해 데이터 가져오기\n",
    "    response = requests.get(url)\n",
    "\n",
    "    # 호출 성공 여부 확인\n",
    "    if response.status_code == 200:\n",
    "        # 응답 데이터를 JSON 형식으로 변환\n",
    "        data = response.json()\n",
    "\n",
    "        # 데이터가 있는지 확인\n",
    "        if \"data\" in data and len(data[\"data\"]) > 0:\n",
    "            # 가장 최신 데이터를 가져옴\n",
    "            latest_data = data[\"data\"][0]\n",
    "            return {\n",
    "                \"index_value\": latest_data[\"value\"],  # 공포탐욕 지수 값\n",
    "                \"status\": latest_data[\n",
    "                    \"value_classification\"\n",
    "                ],  # 상태 (예: Extreme Fear, Greed 등)\n",
    "                \"timestamp\": latest_data[\"timestamp\"],  # 타임스탬프\n",
    "            }\n",
    "        else:\n",
    "            # 데이터가 없는 경우 에러 메시지 반환\n",
    "            return {\"error\": \"No data available\"}\n",
    "    else:\n",
    "        # 호출 실패 시 상태 코드와 함께 에러 메시지 반환\n",
    "        return {\"error\": f\"Failed to fetch data. Status code: {response.status_code}\"}"
   ]
  },
  {
   "cell_type": "code",
   "execution_count": 3,
   "metadata": {},
   "outputs": [
    {
     "name": "stdout",
     "output_type": "stream",
     "text": [
      "Fear & Greed Index: 73\n",
      "Status: Greed\n",
      "Timestamp: 1735948800\n"
     ]
    }
   ],
   "source": [
    "# 공포탐욕 지수를 가져옴\n",
    "fear_and_greed = get_fear_and_greed_index()\n",
    "\n",
    "# 에러 여부 확인\n",
    "if \"error\" in fear_and_greed:\n",
    "    # 에러 메시지 출력\n",
    "    print(f\"Error: {fear_and_greed['error']}\")\n",
    "else:\n",
    "    # 공포탐욕 지수와 관련된 데이터 출력\n",
    "    print(f\"Fear & Greed Index: {fear_and_greed['index_value']}\")  # 지수 값\n",
    "    print(f\"Status: {fear_and_greed['status']}\")  # 상태\n",
    "    print(f\"Timestamp: {fear_and_greed['timestamp']}\")  # 타임스탬프"
   ]
  }
 ],
 "metadata": {
  "kernelspec": {
   "display_name": "coinbot-env",
   "language": "python",
   "name": "python3"
  },
  "language_info": {
   "codemirror_mode": {
    "name": "ipython",
    "version": 3
   },
   "file_extension": ".py",
   "mimetype": "text/x-python",
   "name": "python",
   "nbconvert_exporter": "python",
   "pygments_lexer": "ipython3",
   "version": "3.12.8"
  }
 },
 "nbformat": 4,
 "nbformat_minor": 2
}
